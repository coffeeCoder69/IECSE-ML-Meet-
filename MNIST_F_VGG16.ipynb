{
  "nbformat": 4,
  "nbformat_minor": 0,
  "metadata": {
    "colab": {
      "name": "MNIST_F_VGG16.ipynb",
      "provenance": [],
      "collapsed_sections": [],
      "authorship_tag": "ABX9TyO01HuHpBZyjn/4FAhLHlH0",
      "include_colab_link": true
    },
    "kernelspec": {
      "name": "python3",
      "display_name": "Python 3"
    },
    "accelerator": "GPU"
  },
  "cells": [
    {
      "cell_type": "markdown",
      "metadata": {
        "id": "view-in-github",
        "colab_type": "text"
      },
      "source": [
        "<a href=\"https://colab.research.google.com/github/whopriyam/IECSE-ML-Meet-/blob/master/MNIST_F_VGG16.ipynb\" target=\"_parent\"><img src=\"https://colab.research.google.com/assets/colab-badge.svg\" alt=\"Open In Colab\"/></a>"
      ]
    },
    {
      "cell_type": "code",
      "metadata": {
        "id": "jfTkrL0WFx7z",
        "colab_type": "code",
        "outputId": "ab6de9bd-2963-4b8e-ea70-9886807fba60",
        "colab": {
          "base_uri": "https://localhost:8080/",
          "height": 81
        }
      },
      "source": [
        "###Importing the Reqd Libraries\n",
        "\n",
        "import keras\n",
        "from keras.models import Sequential,Model\n",
        "from keras.layers.core import Dense,Activation,Flatten,Dropout\n",
        "from keras.layers import Conv2D,MaxPooling2D\n",
        "import numpy as np\n",
        "import matplotlib.pyplot as plt\n",
        "\n",
        "%matplotlib inline"
      ],
      "execution_count": 0,
      "outputs": [
        {
          "output_type": "stream",
          "text": [
            "Using TensorFlow backend.\n"
          ],
          "name": "stderr"
        },
        {
          "output_type": "display_data",
          "data": {
            "text/html": [
              "<p style=\"color: red;\">\n",
              "The default version of TensorFlow in Colab will soon switch to TensorFlow 2.x.<br>\n",
              "We recommend you <a href=\"https://www.tensorflow.org/guide/migrate\" target=\"_blank\">upgrade</a> now \n",
              "or ensure your notebook will continue to use TensorFlow 1.x via the <code>%tensorflow_version 1.x</code> magic:\n",
              "<a href=\"https://colab.research.google.com/notebooks/tensorflow_version.ipynb\" target=\"_blank\">more info</a>.</p>\n"
            ],
            "text/plain": [
              "<IPython.core.display.HTML object>"
            ]
          },
          "metadata": {
            "tags": []
          }
        }
      ]
    },
    {
      "cell_type": "code",
      "metadata": {
        "id": "zgXdlSA5GFff",
        "colab_type": "code",
        "outputId": "d9955f35-ad65-4a84-a02b-de32de083860",
        "colab": {
          "base_uri": "https://localhost:8080/",
          "height": 156
        }
      },
      "source": [
        "###Importing the Dataset\n",
        "\n",
        "from keras.datasets.fashion_mnist import load_data\n",
        "\n",
        "(X_train_orig,Y_train_orig),(X_test_orig,Y_test_orig) = load_data()"
      ],
      "execution_count": 0,
      "outputs": [
        {
          "output_type": "stream",
          "text": [
            "Downloading data from http://fashion-mnist.s3-website.eu-central-1.amazonaws.com/train-labels-idx1-ubyte.gz\n",
            "32768/29515 [=================================] - 0s 1us/step\n",
            "Downloading data from http://fashion-mnist.s3-website.eu-central-1.amazonaws.com/train-images-idx3-ubyte.gz\n",
            "26427392/26421880 [==============================] - 0s 0us/step\n",
            "Downloading data from http://fashion-mnist.s3-website.eu-central-1.amazonaws.com/t10k-labels-idx1-ubyte.gz\n",
            "8192/5148 [===============================================] - 0s 0us/step\n",
            "Downloading data from http://fashion-mnist.s3-website.eu-central-1.amazonaws.com/t10k-images-idx3-ubyte.gz\n",
            "4423680/4422102 [==============================] - 0s 0us/step\n"
          ],
          "name": "stdout"
        }
      ]
    },
    {
      "cell_type": "code",
      "metadata": {
        "id": "NVHnyDvvGO3A",
        "colab_type": "code",
        "outputId": "2637b605-ceec-4736-879e-a35a840c7a17",
        "colab": {
          "base_uri": "https://localhost:8080/",
          "height": 87
        }
      },
      "source": [
        "###Overview of Imported Data\n",
        "\n",
        "print(\"X_train Shape:\",X_train_orig.shape)\n",
        "print(\"Y_train Shape:\",Y_train_orig.shape)\n",
        "print(\"X_test Shape:\",X_test_orig.shape)\n",
        "print(\"Y_test Shape:\",Y_test_orig.shape)"
      ],
      "execution_count": 0,
      "outputs": [
        {
          "output_type": "stream",
          "text": [
            "X_train Shape: (60000, 28, 28)\n",
            "Y_train Shape: (60000,)\n",
            "X_test Shape: (10000, 28, 28)\n",
            "Y_test Shape: (10000,)\n"
          ],
          "name": "stdout"
        }
      ]
    },
    {
      "cell_type": "code",
      "metadata": {
        "id": "RrMcQKw6IAp7",
        "colab_type": "code",
        "colab": {}
      },
      "source": [
        "###Label Dictionary\n",
        "\n",
        "label_dict = {0:'T-shirt/top',\n",
        "1:'Trouser',\n",
        "2:'Pullover',\n",
        "3:'Dress',\n",
        "4:'Coat',\n",
        "5:'Sandal',\n",
        "6:'Shirt',\n",
        "7:'Sneaker',\n",
        "8:'Bag',\n",
        "9:'Ankle boot'}"
      ],
      "execution_count": 0,
      "outputs": []
    },
    {
      "cell_type": "code",
      "metadata": {
        "id": "8bVOyZvVGvik",
        "colab_type": "code",
        "outputId": "94661cd0-1039-42c0-b261-9d2f2348cb12",
        "colab": {
          "base_uri": "https://localhost:8080/",
          "height": 300
        }
      },
      "source": [
        "###Visualizing a Training Example\n",
        "\n",
        "img_index = 2323\n",
        "img = X_train_orig[img_index]\n",
        "label = Y_train_orig[img_index]\n",
        "\n",
        "print(label_dict[label])\n",
        "plt.imshow(img,cmap='Greys')"
      ],
      "execution_count": 0,
      "outputs": [
        {
          "output_type": "stream",
          "text": [
            "Sandal\n"
          ],
          "name": "stdout"
        },
        {
          "output_type": "execute_result",
          "data": {
            "text/plain": [
              "<matplotlib.image.AxesImage at 0x7f8a4396ca58>"
            ]
          },
          "metadata": {
            "tags": []
          },
          "execution_count": 5
        },
        {
          "output_type": "display_data",
          "data": {
            "image/png": "[encoded data removed]",
            "text/plain": [
              "<Figure size 432x288 with 1 Axes>"
            ]
          },
          "metadata": {
            "tags": []
          }
        }
      ]
    },
    {
      "cell_type": "code",
      "metadata": {
        "id": "wJ3yESFDHjWt",
        "colab_type": "code",
        "colab": {}
      },
      "source": [
        "###Pre-Processing the Data\n",
        "\n",
        "##Normalizing the Data\n",
        "X_train = X_train_orig/255\n",
        "X_test = X_test_orig/255"
      ],
      "execution_count": 0,
      "outputs": []
    },
    {
      "cell_type": "code",
      "metadata": {
        "id": "uhfoIhu-IPSw",
        "colab_type": "code",
        "colab": {}
      },
      "source": [
        "##One Hot encoding\n",
        "\n",
        "Y_train = keras.utils.to_categorical(Y_train_orig,10)\n",
        "Y_test = keras.utils.to_categorical(Y_test_orig,10)"
      ],
      "execution_count": 0,
      "outputs": []
    },
    {
      "cell_type": "code",
      "metadata": {
        "id": "-LbjCBqiITds",
        "colab_type": "code",
        "outputId": "c3f85554-d16b-4030-ae7d-b43e83569b70",
        "colab": {
          "base_uri": "https://localhost:8080/",
          "height": 87
        }
      },
      "source": [
        "###Overview Of Processed Data\n",
        "\n",
        "print(\"X_train Shape:\",X_train.shape)\n",
        "print(\"Y_train Shape:\",Y_train.shape)\n",
        "print(\"X_test Shape:\",X_test.shape)\n",
        "print(\"Y_test Shape:\",Y_test.shape)\n"
      ],
      "execution_count": 0,
      "outputs": [
        {
          "output_type": "stream",
          "text": [
            "X_train Shape: (60000, 28, 28)\n",
            "Y_train Shape: (60000, 10)\n",
            "X_test Shape: (10000, 28, 28)\n",
            "Y_test Shape: (10000, 10)\n"
          ],
          "name": "stdout"
        }
      ]
    },
    {
      "cell_type": "code",
      "metadata": {
        "id": "3CiF1KXDIWjA",
        "colab_type": "code",
        "colab": {}
      },
      "source": [
        "###Function for Resizing\n",
        "\n",
        "from skimage.transform import resize\n",
        "\n",
        "target_size = 150\n",
        "\n",
        "def preprocess_image(x):\n",
        "    # Resize the image to have the shape of (150,150)\n",
        "    x = resize(x, (target_size, target_size),mode='constant',anti_aliasing=False)\n",
        "\n",
        "    x = np.stack((x,)*3, axis=-1) \n",
        "\n",
        "    return x.astype(np.float32)"
      ],
      "execution_count": 0,
      "outputs": []
    },
    {
      "cell_type": "code",
      "metadata": {
        "id": "GohFuMqyInhN",
        "colab_type": "code",
        "colab": {}
      },
      "source": [
        "###Making a Generator\n",
        "\n",
        "from sklearn.utils import shuffle\n",
        "\n",
        "def load_data_generator(x, y, batch_size=64):\n",
        "    num_samples = x.shape[0]\n",
        "    while 1:  # Loop forever so the generator never terminates\n",
        "        try:\n",
        "            shuffle(x)\n",
        "            for i in range(0, num_samples, batch_size):\n",
        "                x_data = [preprocess_image(im) for im in x[i:i+batch_size]]\n",
        "                y_data = y[i:i + batch_size]\n",
        "            \n",
        "                # convert to numpy array since this what keras required\n",
        "                yield shuffle(np.array(x_data), np.array(y_data))\n",
        "        except Exception as err:\n",
        "            print(err)"
      ],
      "execution_count": 0,
      "outputs": []
    },
    {
      "cell_type": "code",
      "metadata": {
        "id": "UNd2HfkVI2B-",
        "colab_type": "code",
        "colab": {}
      },
      "source": [
        "###Image Hyperparameters\n",
        "\n",
        "IMAGE_SIZE = 150\n",
        "IMAGE_WIDTH, IMAGE_HEIGHT = IMAGE_SIZE,IMAGE_SIZE\n",
        "IMAGE_SIZE=(IMAGE_WIDTH, IMAGE_HEIGHT)\n",
        "IMAGE_CHANNELS=3"
      ],
      "execution_count": 0,
      "outputs": []
    },
    {
      "cell_type": "code",
      "metadata": {
        "id": "bHdPP035Ir7U",
        "colab_type": "code",
        "outputId": "29498120-6d17-4425-dabd-bd13d788770d",
        "colab": {
          "base_uri": "https://localhost:8080/",
          "height": 505
        }
      },
      "source": [
        "###Making the Model\n",
        "from keras.applications import VGG16\n",
        "\n",
        "input_shape = (IMAGE_HEIGHT,IMAGE_WIDTH,IMAGE_CHANNELS)\n",
        "\n",
        "model = Sequential\n",
        "\n",
        "pre_trained_model = VGG16(input_shape=input_shape, include_top=False, weights=\"imagenet\")\n",
        "\n",
        "for layer in pre_trained_model.layers[:-5]:\n",
        "    layer.trainable = False\n",
        "for layer in pre_trained_model.layers[-5:]:\n",
        "    layer.trainable = True\n",
        "\n",
        "last_layer = pre_trained_model.get_layer('block5_pool')\n",
        "last_output = last_layer.output\n",
        "\n",
        "# Flatten the output layer to 1 dimension\n",
        "x = Flatten()(last_output)\n",
        "# Add a fully connected layer with 512 hidden units and ReLU activation\n",
        "x = Dense(512, activation='relu')(x)\n",
        "# Add a dropout rate of 0.5\n",
        "x = Dropout(0.5)(x)\n",
        "# Add a final sigmoid layer for classification\n",
        "x = Dense(10, activation='softmax')(x)\n",
        "\n",
        "model = Model(pre_trained_model.input, x)"
      ],
      "execution_count": 0,
      "outputs": [
        {
          "output_type": "stream",
          "text": [
            "WARNING:tensorflow:From /usr/local/lib/python3.6/dist-packages/keras/backend/tensorflow_backend.py:66: The name tf.get_default_graph is deprecated. Please use tf.compat.v1.get_default_graph instead.\n",
            "\n",
            "WARNING:tensorflow:From /usr/local/lib/python3.6/dist-packages/keras/backend/tensorflow_backend.py:541: The name tf.placeholder is deprecated. Please use tf.compat.v1.placeholder instead.\n",
            "\n",
            "WARNING:tensorflow:From /usr/local/lib/python3.6/dist-packages/keras/backend/tensorflow_backend.py:4432: The name tf.random_uniform is deprecated. Please use tf.random.uniform instead.\n",
            "\n",
            "WARNING:tensorflow:From /usr/local/lib/python3.6/dist-packages/keras/backend/tensorflow_backend.py:4267: The name tf.nn.max_pool is deprecated. Please use tf.nn.max_pool2d instead.\n",
            "\n",
            "Downloading data from https://github.com/fchollet/deep-learning-models/releases/download/v0.1/vgg16_weights_tf_dim_ordering_tf_kernels_notop.h5\n",
            "58892288/58889256 [==============================] - 2s 0us/step\n",
            "WARNING:tensorflow:From /usr/local/lib/python3.6/dist-packages/keras/backend/tensorflow_backend.py:190: The name tf.get_default_session is deprecated. Please use tf.compat.v1.get_default_session instead.\n",
            "\n",
            "WARNING:tensorflow:From /usr/local/lib/python3.6/dist-packages/keras/backend/tensorflow_backend.py:197: The name tf.ConfigProto is deprecated. Please use tf.compat.v1.ConfigProto instead.\n",
            "\n",
            "WARNING:tensorflow:From /usr/local/lib/python3.6/dist-packages/keras/backend/tensorflow_backend.py:203: The name tf.Session is deprecated. Please use tf.compat.v1.Session instead.\n",
            "\n",
            "WARNING:tensorflow:From /usr/local/lib/python3.6/dist-packages/keras/backend/tensorflow_backend.py:207: The name tf.global_variables is deprecated. Please use tf.compat.v1.global_variables instead.\n",
            "\n",
            "WARNING:tensorflow:From /usr/local/lib/python3.6/dist-packages/keras/backend/tensorflow_backend.py:216: The name tf.is_variable_initialized is deprecated. Please use tf.compat.v1.is_variable_initialized instead.\n",
            "\n",
            "WARNING:tensorflow:From /usr/local/lib/python3.6/dist-packages/keras/backend/tensorflow_backend.py:223: The name tf.variables_initializer is deprecated. Please use tf.compat.v1.variables_initializer instead.\n",
            "\n",
            "WARNING:tensorflow:From /usr/local/lib/python3.6/dist-packages/keras/backend/tensorflow_backend.py:148: The name tf.placeholder_with_default is deprecated. Please use tf.compat.v1.placeholder_with_default instead.\n",
            "\n",
            "WARNING:tensorflow:From /usr/local/lib/python3.6/dist-packages/keras/backend/tensorflow_backend.py:3733: calling dropout (from tensorflow.python.ops.nn_ops) with keep_prob is deprecated and will be removed in a future version.\n",
            "Instructions for updating:\n",
            "Please use `rate` instead of `keep_prob`. Rate should be set to `rate = 1 - keep_prob`.\n"
          ],
          "name": "stdout"
        }
      ]
    },
    {
      "cell_type": "code",
      "metadata": {
        "id": "asmv7VcaMZ0X",
        "colab_type": "code",
        "outputId": "8a7eefa6-47f4-4441-e5b1-196b100d5704",
        "colab": {
          "base_uri": "https://localhost:8080/",
          "height": 953
        }
      },
      "source": [
        "###Model Summary\n",
        "\n",
        "model.summary()"
      ],
      "execution_count": 0,
      "outputs": [
        {
          "output_type": "stream",
          "text": [
            "Model: \"model_1\"\n",
            "_________________________________________________________________\n",
            "Layer (type)                 Output Shape              Param #   \n",
            "=================================================================\n",
            "input_1 (InputLayer)         (None, 150, 150, 3)       0         \n",
            "_________________________________________________________________\n",
            "block1_conv1 (Conv2D)        (None, 150, 150, 64)      1792      \n",
            "_________________________________________________________________\n",
            "block1_conv2 (Conv2D)        (None, 150, 150, 64)      36928     \n",
            "_________________________________________________________________\n",
            "block1_pool (MaxPooling2D)   (None, 75, 75, 64)        0         \n",
            "_________________________________________________________________\n",
            "block2_conv1 (Conv2D)        (None, 75, 75, 128)       73856     \n",
            "_________________________________________________________________\n",
            "block2_conv2 (Conv2D)        (None, 75, 75, 128)       147584    \n",
            "_________________________________________________________________\n",
            "block2_pool (MaxPooling2D)   (None, 37, 37, 128)       0         \n",
            "_________________________________________________________________\n",
            "block3_conv1 (Conv2D)        (None, 37, 37, 256)       295168    \n",
            "_________________________________________________________________\n",
            "block3_conv2 (Conv2D)        (None, 37, 37, 256)       590080    \n",
            "_________________________________________________________________\n",
            "block3_conv3 (Conv2D)        (None, 37, 37, 256)       590080    \n",
            "_________________________________________________________________\n",
            "block3_pool (MaxPooling2D)   (None, 18, 18, 256)       0         \n",
            "_________________________________________________________________\n",
            "block4_conv1 (Conv2D)        (None, 18, 18, 512)       1180160   \n",
            "_________________________________________________________________\n",
            "block4_conv2 (Conv2D)        (None, 18, 18, 512)       2359808   \n",
            "_________________________________________________________________\n",
            "block4_conv3 (Conv2D)        (None, 18, 18, 512)       2359808   \n",
            "_________________________________________________________________\n",
            "block4_pool (MaxPooling2D)   (None, 9, 9, 512)         0         \n",
            "_________________________________________________________________\n",
            "block5_conv1 (Conv2D)        (None, 9, 9, 512)         2359808   \n",
            "_________________________________________________________________\n",
            "block5_conv2 (Conv2D)        (None, 9, 9, 512)         2359808   \n",
            "_________________________________________________________________\n",
            "block5_conv3 (Conv2D)        (None, 9, 9, 512)         2359808   \n",
            "_________________________________________________________________\n",
            "block5_pool (MaxPooling2D)   (None, 4, 4, 512)         0         \n",
            "_________________________________________________________________\n",
            "flatten_1 (Flatten)          (None, 8192)              0         \n",
            "_________________________________________________________________\n",
            "dense_1 (Dense)              (None, 512)               4194816   \n",
            "_________________________________________________________________\n",
            "dropout_1 (Dropout)          (None, 512)               0         \n",
            "_________________________________________________________________\n",
            "dense_2 (Dense)              (None, 10)                5130      \n",
            "=================================================================\n",
            "Total params: 18,914,634\n",
            "Trainable params: 11,279,370\n",
            "Non-trainable params: 7,635,264\n",
            "_________________________________________________________________\n"
          ],
          "name": "stdout"
        }
      ]
    },
    {
      "cell_type": "code",
      "metadata": {
        "id": "g2pjBsNGI0Xp",
        "colab_type": "code",
        "outputId": "63249202-d37f-4e55-a68b-652be10141e2",
        "colab": {
          "base_uri": "https://localhost:8080/",
          "height": 107
        }
      },
      "source": [
        "###Compiling the Model\n",
        "from keras import optimizers\n",
        "\n",
        "model.compile(loss='categorical_crossentropy',optimizer=optimizers.Adam(lr=0.0001),metrics=['categorical_accuracy'])"
      ],
      "execution_count": 0,
      "outputs": [
        {
          "output_type": "stream",
          "text": [
            "WARNING:tensorflow:From /usr/local/lib/python3.6/dist-packages/keras/optimizers.py:793: The name tf.train.Optimizer is deprecated. Please use tf.compat.v1.train.Optimizer instead.\n",
            "\n",
            "WARNING:tensorflow:From /usr/local/lib/python3.6/dist-packages/keras/backend/tensorflow_backend.py:3576: The name tf.log is deprecated. Please use tf.math.log instead.\n",
            "\n"
          ],
          "name": "stdout"
        }
      ]
    },
    {
      "cell_type": "code",
      "metadata": {
        "id": "XNK75K9sL4OW",
        "colab_type": "code",
        "colab": {}
      },
      "source": [
        "###Callbacks\n",
        "\n",
        "from keras.callbacks import EarlyStopping, ReduceLROnPlateau\n",
        "\n",
        "###Callbacks\n",
        "\n",
        "learning_rate_reduction = ReduceLROnPlateau(monitor='val_categorical_accuracy', \n",
        "                                            patience=2, \n",
        "                                            verbose=1, \n",
        "                                            factor=0.5, \n",
        "                                            min_lr=0.00001)\n",
        "\n",
        "earlystop = EarlyStopping(patience=10)\n",
        "\n",
        "callbacks = [earlystop, learning_rate_reduction]"
      ],
      "execution_count": 0,
      "outputs": []
    },
    {
      "cell_type": "code",
      "metadata": {
        "id": "8GTP_MpUMPF_",
        "colab_type": "code",
        "colab": {}
      },
      "source": [
        "###Hyperparameters\n",
        "\n",
        "batch_size=64\n",
        "epochs = 20"
      ],
      "execution_count": 0,
      "outputs": []
    },
    {
      "cell_type": "code",
      "metadata": {
        "id": "QspO-1g7LVkr",
        "colab_type": "code",
        "outputId": "38e79d5a-a998-4c26-c2ab-c5943c3d15da",
        "colab": {
          "base_uri": "https://localhost:8080/",
          "height": 644
        }
      },
      "source": [
        "train_generator = load_data_generator(X_train, Y_train, batch_size=batch_size)\n",
        "val_generator = load_data_generator(X_test, Y_test, batch_size=batch_size)\n",
        "total_train = X_train.shape[0]\n",
        "total_validate = X_test.shape[0]\n",
        "\n",
        "###Training the Model\n",
        "\n",
        "history = model.fit_generator(\n",
        "    train_generator, \n",
        "    epochs=epochs,\n",
        "    steps_per_epoch=total_train//batch_size,\n",
        "    callbacks=callbacks,\n",
        "    validation_data=val_generator,\n",
        "    validation_steps=total_validate//batch_size)"
      ],
      "execution_count": 0,
      "outputs": [
        {
          "output_type": "stream",
          "text": [
            "WARNING:tensorflow:From /usr/local/lib/python3.6/dist-packages/tensorflow_core/python/ops/math_grad.py:1424: where (from tensorflow.python.ops.array_ops) is deprecated and will be removed in a future version.\n",
            "Instructions for updating:\n",
            "Use tf.where in 2.0, which has the same broadcast rule as np.where\n",
            "WARNING:tensorflow:From /usr/local/lib/python3.6/dist-packages/keras/backend/tensorflow_backend.py:1033: The name tf.assign_add is deprecated. Please use tf.compat.v1.assign_add instead.\n",
            "\n",
            "WARNING:tensorflow:From /usr/local/lib/python3.6/dist-packages/keras/backend/tensorflow_backend.py:1020: The name tf.assign is deprecated. Please use tf.compat.v1.assign instead.\n",
            "\n",
            "Epoch 1/20\n",
            "937/937 [==============================] - 200s 213ms/step - loss: 0.3437 - categorical_accuracy: 0.8772 - val_loss: 0.2640 - val_categorical_accuracy: 0.9050\n",
            "Epoch 2/20\n",
            "937/937 [==============================] - 197s 210ms/step - loss: 0.2107 - categorical_accuracy: 0.9243 - val_loss: 0.2361 - val_categorical_accuracy: 0.9171\n",
            "Epoch 3/20\n",
            "937/937 [==============================] - 194s 207ms/step - loss: 0.1633 - categorical_accuracy: 0.9412 - val_loss: 0.2476 - val_categorical_accuracy: 0.9156\n",
            "Epoch 4/20\n",
            "937/937 [==============================] - 196s 209ms/step - loss: 0.1319 - categorical_accuracy: 0.9527 - val_loss: 0.2654 - val_categorical_accuracy: 0.9148\n",
            "\n",
            "Epoch 00004: ReduceLROnPlateau reducing learning rate to 4.999999873689376e-05.\n",
            "Epoch 5/20\n",
            "937/937 [==============================] - 194s 207ms/step - loss: 0.0837 - categorical_accuracy: 0.9697 - val_loss: 0.2671 - val_categorical_accuracy: 0.9255\n",
            "Epoch 6/20\n",
            "937/937 [==============================] - 196s 209ms/step - loss: 0.0604 - categorical_accuracy: 0.9779 - val_loss: 0.2704 - val_categorical_accuracy: 0.9281\n",
            "Epoch 7/20\n",
            "937/937 [==============================] - 195s 208ms/step - loss: 0.0448 - categorical_accuracy: 0.9838 - val_loss: 0.2824 - val_categorical_accuracy: 0.9267\n",
            "Epoch 8/20\n",
            "937/937 [==============================] - 195s 208ms/step - loss: 0.0361 - categorical_accuracy: 0.9871 - val_loss: 0.2962 - val_categorical_accuracy: 0.9288\n",
            "Epoch 9/20\n",
            "937/937 [==============================] - 194s 207ms/step - loss: 0.0316 - categorical_accuracy: 0.9892 - val_loss: 0.3109 - val_categorical_accuracy: 0.9262\n",
            "Epoch 10/20\n",
            "937/937 [==============================] - 194s 207ms/step - loss: 0.0263 - categorical_accuracy: 0.9908 - val_loss: 0.3315 - val_categorical_accuracy: 0.9285\n",
            "\n",
            "Epoch 00010: ReduceLROnPlateau reducing learning rate to 2.499999936844688e-05.\n",
            "Epoch 11/20\n",
            "937/937 [==============================] - 194s 207ms/step - loss: 0.0168 - categorical_accuracy: 0.9940 - val_loss: 0.3268 - val_categorical_accuracy: 0.9334\n",
            "Epoch 12/20\n",
            "937/937 [==============================] - 195s 208ms/step - loss: 0.0095 - categorical_accuracy: 0.9973 - val_loss: 0.3647 - val_categorical_accuracy: 0.9351\n"
          ],
          "name": "stdout"
        }
      ]
    },
    {
      "cell_type": "code",
      "metadata": {
        "id": "wWM-TfhgMMcd",
        "colab_type": "code",
        "outputId": "fb0b7c67-29c2-4a09-ebd8-5c62e5b5e982",
        "colab": {
          "base_uri": "https://localhost:8080/",
          "height": 573
        }
      },
      "source": [
        "###Plotting the Results\n",
        "\n",
        "##Accuracy\n",
        "plt.plot(history.history['categorical_accuracy'])\n",
        "plt.plot(history.history['val_categorical_accuracy'])\n",
        "plt.title('Model accuracy')\n",
        "plt.ylabel('Accuracy')\n",
        "plt.xlabel('Epoch')\n",
        "plt.legend(['Train', 'Validation'], loc='upper left')\n",
        "plt.show()\n",
        "\n",
        "##Loss\n",
        "plt.plot(history.history['loss'])\n",
        "plt.plot(history.history['val_loss'])\n",
        "plt.title('Model loss')\n",
        "plt.ylabel('Loss')\n",
        "plt.xlabel('Epoch')\n",
        "plt.legend(['Train', 'Validation'], loc='upper left')\n",
        "plt.show()"
      ],
      "execution_count": 0,
      "outputs": [
        {
          "output_type": "display_data",
          "data": {
            "image/png": "[encoded data removed]",
            "text/plain": [
              "<Figure size 432x288 with 1 Axes>"
            ]
          },
          "metadata": {
            "tags": []
          }
        },
        {
          "output_type": "display_data",
          "data": {
            "image/png": "[encoded data removed]",
            "text/plain": [
              "<Figure size 432x288 with 1 Axes>"
            ]
          },
          "metadata": {
            "tags": []
          }
        }
      ]
    }
  ]
}